{
 "cells": [
  {
   "cell_type": "code",
   "execution_count": null,
   "id": "dc776c93",
   "metadata": {},
   "outputs": [
    {
     "name": "stdout",
     "output_type": "stream",
     "text": [
      "\n",
      "['32 + 698', '3801 - 2', '45 + 43', '123 + 49']\n"
     ]
    }
   ],
   "source": [
    "def arithmetic_arranger(problems, show_answers=False):\n",
    "\n",
    "    return problems\n",
    "\n",
    "print(f'\\n{arithmetic_arranger([\"32 + 698\", \"3801 - 2\", \"45 + 43\", \"123 + 49\"])}')"
   ]
  },
  {
   "cell_type": "code",
   "execution_count": 35,
   "id": "5fe3680b",
   "metadata": {},
   "outputs": [],
   "source": [
    "def arithmetic_arranger(problems, show_answers=False):\n",
    "    left  = []\n",
    "    right = []\n",
    "\n",
    "    for i in problems:\n",
    "        #left.append(int(i.split(\" \")[0]))\n",
    "        #right.append(int(i.split(\" \")[-1]))\n",
    "        left = int(i.split(\" \")[0])\n",
    "        right = int(i.split(\" \")[-1])\n",
    "        operator = i.split(\" \")[1]\n",
    "        if '+' in i:\n",
    "            print(f\"Si il y a un + dans ça: {i} alors:\")\n",
    "            print(dict_[\"addition\"](left, right))\n",
    "        elif '-' in i:\n",
    "            print(f\"Si il y a un - dans ça: {i} alors:\")\n",
    "            print(dict_[\"substract\"](left, right))\n",
    "        else:\n",
    "            print(\"Error: Operator must be '+' or '-'.\") \n",
    "            \n",
    "      \n",
    "        #left soit print à droite\n",
    "        # retour à la ligne\n",
    "        # print l'operateur et right mais avec un espace \n",
    "        # print les hyphens\n",
    "        print(f\"{left}      {right}      {left}      {right}\\n{operator} {left}    {operator}    {right}    {operator} {left}    {operator}  {right}\\n-----    ------    ----    ----- \")\n",
    "\n",
    "    return problems\n"
   ]
  },
  {
   "cell_type": "code",
   "execution_count": 36,
   "id": "f2c475ca",
   "metadata": {},
   "outputs": [
    {
     "name": "stdout",
     "output_type": "stream",
     "text": [
      "Si il y a un + dans ça: 32 + 698 alors:\n",
      "730\n",
      "32      698      32      698\n",
      "+ 32    +    698    + 32    +  698\n",
      "-----    ------    ----    ----- \n",
      "Si il y a un - dans ça: 3801 - 2 alors:\n",
      "3799\n",
      "3801      2      3801      2\n",
      "- 3801    -    2    - 3801    -  2\n",
      "-----    ------    ----    ----- \n",
      "Si il y a un + dans ça: 45 + 43 alors:\n",
      "88\n",
      "45      43      45      43\n",
      "+ 45    +    43    + 45    +  43\n",
      "-----    ------    ----    ----- \n",
      "Si il y a un + dans ça: 123 + 49 alors:\n",
      "172\n",
      "123      49      123      49\n",
      "+ 123    +    49    + 123    +  49\n",
      "-----    ------    ----    ----- \n",
      "\n",
      "['32 + 698', '3801 - 2', '45 + 43', '123 + 49']\n"
     ]
    }
   ],
   "source": [
    "print(f'\\n{arithmetic_arranger([\"32 + 698\", \"3801 - 2\", \"45 + 43\", \"123 + 49\"])}')"
   ]
  },
  {
   "cell_type": "code",
   "execution_count": 19,
   "id": "846b72ce",
   "metadata": {},
   "outputs": [],
   "source": [
    "operation = \"   32\\n+ 698\\n-----\""
   ]
  },
  {
   "cell_type": "code",
   "execution_count": 20,
   "id": "3789c6ea",
   "metadata": {},
   "outputs": [],
   "source": [
    "arithmetic_arranger = [\"32 + 698\", \"3801 - 2\", \"45 + 43\", \"123 + 49\"]"
   ]
  },
  {
   "cell_type": "code",
   "execution_count": 21,
   "id": "50f76c49",
   "metadata": {},
   "outputs": [
    {
     "data": {
      "text/plain": [
       "'32 + 698'"
      ]
     },
     "execution_count": 21,
     "metadata": {},
     "output_type": "execute_result"
    }
   ],
   "source": [
    "arithmetic_arranger[0]"
   ]
  },
  {
   "cell_type": "code",
   "execution_count": 22,
   "id": "da3acc85",
   "metadata": {},
   "outputs": [
    {
     "data": {
      "text/plain": [
       "['32', '+', '698']"
      ]
     },
     "execution_count": 22,
     "metadata": {},
     "output_type": "execute_result"
    }
   ],
   "source": [
    "arithmetic_arranger[0].split(\" \")"
   ]
  },
  {
   "cell_type": "code",
   "execution_count": 25,
   "id": "714bb83f",
   "metadata": {},
   "outputs": [
    {
     "name": "stdout",
     "output_type": "stream",
     "text": [
      "Si il y a un + dans ça: 32 + 698 alors:\n",
      "730\n",
      "Si il y a un - dans ça: 3801 - 2 alors:\n",
      "3799\n",
      "Si il y a un + dans ça: 45 + 43 alors:\n",
      "88\n",
      "Si il y a un + dans ça: 123 + 49 alors:\n",
      "172\n"
     ]
    }
   ],
   "source": [
    "left  = 0\n",
    "right = 0\n",
    "\n",
    "for i in arithmetic_arranger:\n",
    "    left = int(i.split(\" \")[0])\n",
    "    right = int(i.split(\" \")[-1])\n",
    "    if '+' in i:\n",
    "        print(f\"Si il y a un + dans ça: {i} alors:\")\n",
    "        print(dict_[\"addition\"](left, right))\n",
    "    elif '-' in i:\n",
    "        print(f\"Si il y a un - dans ça: {i} alors:\")\n",
    "        print(dict_[\"substract\"](left, right))\n",
    "    else:\n",
    "        print(\"Error: Operator must be '+' or '-'.\") \n"
   ]
  },
  {
   "cell_type": "code",
   "execution_count": 12,
   "id": "87240382",
   "metadata": {},
   "outputs": [],
   "source": [
    "import operator\n",
    "dict_ = {\n",
    "    \"addition\": operator.add,\n",
    "    \"substract\": operator.sub,\n",
    "} "
   ]
  }
 ],
 "metadata": {
  "kernelspec": {
   "display_name": "Python 3",
   "language": "python",
   "name": "python3"
  },
  "language_info": {
   "codemirror_mode": {
    "name": "ipython",
    "version": 3
   },
   "file_extension": ".py",
   "mimetype": "text/x-python",
   "name": "python",
   "nbconvert_exporter": "python",
   "pygments_lexer": "ipython3",
   "version": "3.12.11"
  }
 },
 "nbformat": 4,
 "nbformat_minor": 5
}
